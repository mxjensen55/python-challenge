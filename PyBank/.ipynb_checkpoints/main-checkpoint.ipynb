{
 "cells": [
  {
   "cell_type": "code",
   "execution_count": 99,
   "metadata": {},
   "outputs": [
    {
     "name": "stdout",
     "output_type": "stream",
     "text": [
      "Financial Analysis\n",
      "-----------------\n",
      "Total Months: 86\n",
      "Total: $38382578\n",
      "Average Change: $ -2315.12\n",
      "Greatest Increase in Profits: Feb-2012 ($1926159)\n",
      "Greatest Decrease in Profits: Sep-2013 ($-2196167)\n"
     ]
    }
   ],
   "source": [
    "import os\n",
    "import csv\n",
    "\n",
    "budget_data=os.path.join(\"Resources\", \"budget_data.csv\")\n",
    "\n",
    "#create open list variables\n",
    "\n",
    "total_months=[]\n",
    "profit_loss=[]\n",
    "monthly_change=[]\n",
    "\n",
    "#open file with csvreader\n",
    "\n",
    "with open(budget_data) as csvfile:\n",
    "    csvreader = csv.reader(csvfile, delimiter=\",\")\n",
    "\n",
    "    #take out the header\n",
    "    \n",
    "    csv_header = next(csvfile, None)\n",
    "    \n",
    "    for row in csvreader:\n",
    "        total_months.append(row[0])\n",
    "        profit_loss.append(int(row[1]))\n",
    "        \n",
    "    for i in range(len(profit_loss)-1):\n",
    "        monthly_change.append(profit_loss[i+1]-profit_loss[i])\n",
    "\n",
    "max_increase=max(monthly_change)\n",
    "max_decrease=min(monthly_change)\n",
    "\n",
    "max_month=monthly_change.index(max(monthly_change)) +1\n",
    "min_month=monthly_change.index(min(monthly_change))+1\n",
    "\n",
    "print(\"Financial Analysis\")\n",
    "print(\"-----------------\")\n",
    "print(f\"Total Months: {len(total_months)}\")\n",
    "print(f\"Total: ${sum(profit_loss)}\")\n",
    "print(f\"Average Change: $ {round(sum(monthly_change)/len(monthly_change), 2)}\")\n",
    "print(f\"Greatest Increase in Profits: {total_months[max_month]} (${max_increase})\")\n",
    "print(f\"Greatest Decrease in Profits: {total_months[min_month]} (${max_decrease})\")\n",
    "      "
   ]
  },
  {
   "cell_type": "code",
   "execution_count": 107,
   "metadata": {},
   "outputs": [],
   "source": [
    "output_file = os.path.join(\"budget_analysis.txt\")\n",
    "#  Open the output file\n",
    "with open(output_file, \"w\") as datafile:\n",
    "    writer = csv.writer(datafile)\n",
    "    datafile.write(\"Financial Analysis\")\n",
    "    datafile.write(\"\\n\")\n",
    "    datafile.write(\"------------------\")\n",
    "    datafile.write(\"\\n\")\n",
    "    datafile.write(f\"Total Months: {len(total_months)}\")\n",
    "    datafile.write(\"\\n\")\n",
    "    datafile.write(f\"Total: ${sum(profit_loss)}\")\n",
    "    datafile.write(\"\\n\")\n",
    "    datafile.write(f\"Average Change: $ {round(sum(monthly_change)/len(monthly_change), 2)}\")\n",
    "    datafile.write(\"\\n\")\n",
    "    datafile.write(f\"Greatest Increase in Profits: {total_months[max_month]} (${max_increase})\")\n",
    "    datafile.write(\"\\n\")\n",
    "    datafile.write(f\"Greatest Decrease in Profits: {total_months[min_month]} (${max_decrease})\")\n",
    "    "
   ]
  },
  {
   "cell_type": "code",
   "execution_count": null,
   "metadata": {},
   "outputs": [],
   "source": []
  }
 ],
 "metadata": {
  "kernelspec": {
   "display_name": "Python 3",
   "language": "python",
   "name": "python3"
  },
  "language_info": {
   "codemirror_mode": {
    "name": "ipython",
    "version": 3
   },
   "file_extension": ".py",
   "mimetype": "text/x-python",
   "name": "python",
   "nbconvert_exporter": "python",
   "pygments_lexer": "ipython3",
   "version": "3.7.4"
  }
 },
 "nbformat": 4,
 "nbformat_minor": 2
}
